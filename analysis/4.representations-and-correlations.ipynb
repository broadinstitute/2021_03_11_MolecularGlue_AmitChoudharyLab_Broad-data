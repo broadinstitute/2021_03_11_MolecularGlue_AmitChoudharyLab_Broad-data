{
 "cells": [
  {
   "cell_type": "code",
   "execution_count": 1,
   "metadata": {
    "collapsed": true
   },
   "outputs": [],
   "source": [
    "import utils\n",
    "import pandas as pd\n",
    "from umap import UMAP\n",
    "import plotly.express as px\n",
    "import random\n",
    "import numpy as np\n",
    "import matplotlib.pyplot as plt\n",
    "import scipy.cluster.hierarchy as hierarchy\n",
    "import seaborn as sns\n",
    "\n",
    "random.seed(9000)\n",
    "\n",
    "plt.style.use(\"seaborn-ticks\")\n",
    "plt.rcParams[\"image.cmap\"] = \"Set1\"\n",
    "plt.rcParams['axes.prop_cycle'] = plt.cycler(color=plt.cm.Set1.colors)"
   ]
  },
  {
   "cell_type": "markdown",
   "source": [
    "In this notebook, the negcon normalized profiles are projected onto UMAP dimensions. Replicates are collapsed to consensus profiles and the UMAP representations are plotted. Correlations are plotted as heatmap and hierarchical clustering is plotted as a dendogram."
   ],
   "metadata": {
    "collapsed": false
   }
  },
  {
   "cell_type": "code",
   "execution_count": 2,
   "outputs": [],
   "source": [
    "experiment_df = pd.read_csv('output/experiment-metadata.tsv', sep='\\t')"
   ],
   "metadata": {
    "collapsed": false,
    "pycharm": {
     "name": "#%%\n"
    }
   }
  },
  {
   "cell_type": "code",
   "execution_count": null,
   "outputs": [],
   "source": [
    "all_plates_df = pd.DataFrame()\n",
    "\n",
    "for i, plate in enumerate(experiment_df.Assay_Plate_Barcode.unique()):\n",
    "    batch = experiment_df.loc[i, 'Batch']\n",
    "    df = (\n",
    "        pd.read_csv(f'../profiles/{batch}/{plate}/{plate}_normalized_negcon.csv.gz')\n",
    "    )\n",
    "    all_plates_df = utils.concat_profiles(all_plates_df, df)\n",
    "\n",
    "all_plates_df = utils.remove_all_control_empty_wells(all_plates_df)\n",
    "all_plates_df = all_plates_df.replace(np.inf, np.nan).dropna(axis=1,how=\"any\")\n",
    "\n",
    "all_plates_conc_1_df = utils.remove_all_control_empty_wells(all_plates_df.query('Metadata_mmoles_per_liter==1'))\n",
    "all_plates_conc_4_df = utils.remove_all_control_empty_wells(all_plates_df.query('Metadata_mmoles_per_liter==4'))\n",
    "\n",
    "all_plates_conc_1_consensus_df = utils.consensus(all_plates_conc_1_df, 'Metadata_broad_sample')\n",
    "all_plates_conc_4_consensus_df = utils.consensus(all_plates_conc_4_df, 'Metadata_broad_sample')"
   ],
   "metadata": {
    "collapsed": false,
    "pycharm": {
     "name": "#%%\n",
     "is_executing": true
    }
   }
  },
  {
   "cell_type": "code",
   "execution_count": null,
   "outputs": [],
   "source": [
    "X_1 = utils.get_featuredata(all_plates_conc_1_consensus_df)\n",
    "X_4 = utils.get_featuredata(all_plates_conc_4_consensus_df)\n",
    "\n",
    "umap_2d = UMAP(n_components=2, init='random', random_state=9000)\n",
    "X_1_embedded = umap_2d.fit_transform(X_1)\n",
    "X_4_embedded = umap_2d.fit_transform(X_4)"
   ],
   "metadata": {
    "collapsed": false,
    "pycharm": {
     "name": "#%%\n",
     "is_executing": true
    }
   }
  },
  {
   "cell_type": "code",
   "execution_count": null,
   "outputs": [],
   "source": [
    "Supplier_catalog_1 = list(all_plates_conc_1_consensus_df.Metadata_Supplier_Catalog)\n",
    "Supplier_catalog_4 = list(all_plates_conc_4_consensus_df.Metadata_Supplier_Catalog)\n",
    "row_1 = list(all_plates_conc_1_df.Metadata_Well.drop_duplicates().str[0:1])\n",
    "col_1 = list(all_plates_conc_1_df.Metadata_Well.drop_duplicates().str[1:])\n",
    "row_4 = list(all_plates_conc_4_df.Metadata_Well.drop_duplicates().str[0:1])\n",
    "col_4 = list(all_plates_conc_4_df.Metadata_Well.drop_duplicates().str[1:])"
   ],
   "metadata": {
    "collapsed": false,
    "pycharm": {
     "name": "#%%\n",
     "is_executing": true
    }
   }
  },
  {
   "cell_type": "code",
   "execution_count": null,
   "outputs": [],
   "source": [
    "X_1_embedded_df = pd.DataFrame({'Supplier Catalog':Supplier_catalog_1,\n",
    "                                'Row':row_1,\n",
    "                                'Col':col_1,\n",
    "                                'umap 1': X_1_embedded[:,:1].flatten(),\n",
    "                                'umap 2': X_1_embedded[:,1:2].flatten()})\n",
    "\n",
    "X_4_embedded_df = pd.DataFrame({'Supplier Catalog':Supplier_catalog_1,\n",
    "                                'Row':row_4,\n",
    "                                'Col':col_4,\n",
    "                                'umap 1': X_4_embedded[:,:1].flatten(),\n",
    "                                'umap 2': X_4_embedded[:,1:2].flatten()})"
   ],
   "metadata": {
    "collapsed": false,
    "pycharm": {
     "name": "#%%\n",
     "is_executing": true
    }
   }
  },
  {
   "cell_type": "code",
   "execution_count": null,
   "outputs": [],
   "source": [
    "X_1_embedded_df = X_1_embedded_df.sample(frac=1).reset_index(drop=True)\n",
    "X_4_embedded_df = X_4_embedded_df.sample(frac=1).reset_index(drop=True)"
   ],
   "metadata": {
    "collapsed": false,
    "pycharm": {
     "name": "#%%\n",
     "is_executing": true
    }
   }
  },
  {
   "cell_type": "code",
   "execution_count": null,
   "outputs": [],
   "source": [
    "fig = px.scatter(data_frame=X_1_embedded_df,\n",
    "                 x='umap 1',\n",
    "                 y='umap 2',\n",
    "                 opacity=0.8,\n",
    "                 hover_name='Supplier Catalog')\n",
    "fig.update_traces(marker=dict(size=8))\n",
    "fig.update_layout(title=f'Concentration = 1 uM',\n",
    "                  xaxis=dict(title='umap 1'),\n",
    "                  yaxis=dict(title='umap 2'))\n",
    "fig.show(\"png\")\n",
    "fig.write_image('figures/4.umap_conc_1.png', height=480, width=640, scale=2)\n",
    "fig.write_html('figures/4.umap_conc_1.html')"
   ],
   "metadata": {
    "collapsed": false,
    "pycharm": {
     "name": "#%%\n",
     "is_executing": true
    }
   }
  },
  {
   "cell_type": "code",
   "execution_count": null,
   "outputs": [],
   "source": [
    "fig = px.scatter(data_frame=X_4_embedded_df,\n",
    "                 x='umap 1',\n",
    "                 y='umap 2',\n",
    "                 opacity=0.8,\n",
    "                 hover_name='Supplier Catalog')\n",
    "fig.update_traces(marker=dict(size=8))\n",
    "fig.update_layout(title=f'Concentration = 4 uM',\n",
    "                  xaxis=dict(title='umap 1'),\n",
    "                  yaxis=dict(title='umap 2'))\n",
    "fig.show(\"png\")\n",
    "fig.write_image('figures/4.umap_conc_4.png', height=480, width=640, scale=2)\n",
    "fig.write_html('figures/4.umap_conc_4.html')"
   ],
   "metadata": {
    "collapsed": false,
    "pycharm": {
     "name": "#%%\n",
     "is_executing": true
    }
   }
  },
  {
   "cell_type": "code",
   "execution_count": null,
   "outputs": [],
   "source": [
    "corr = np.corrcoef(X_1, X_4)\n",
    "sns.set(rc={'figure.figsize': (30,30)})\n",
    "sns.heatmap(corr, cmap='Blues', square=True)\n",
    "plt.savefig('figures/4.correlation.png')\n",
    "plt.close()"
   ],
   "metadata": {
    "collapsed": false,
    "pycharm": {
     "name": "#%%\n",
     "is_executing": true
    }
   }
  },
  {
   "cell_type": "code",
   "execution_count": null,
   "outputs": [],
   "source": [
    "pdist = hierarchy.distance.pdist(corr)\n",
    "linkage = hierarchy.linkage(pdist, method='complete')\n",
    "hierarchy.dendrogram(linkage, orientation='right')\n",
    "plt.savefig('figures/4.hierarchical_clustering.png')\n",
    "plt.close()"
   ],
   "metadata": {
    "collapsed": false,
    "pycharm": {
     "name": "#%%\n",
     "is_executing": true
    }
   }
  }
 ],
 "metadata": {
  "kernelspec": {
   "display_name": "Python 3",
   "language": "python",
   "name": "python3"
  },
  "language_info": {
   "codemirror_mode": {
    "name": "ipython",
    "version": 2
   },
   "file_extension": ".py",
   "mimetype": "text/x-python",
   "name": "python",
   "nbconvert_exporter": "python",
   "pygments_lexer": "ipython2",
   "version": "2.7.6"
  }
 },
 "nbformat": 4,
 "nbformat_minor": 0
}