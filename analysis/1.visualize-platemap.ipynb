{
 "cells": [
  {
   "cell_type": "code",
   "execution_count": 1,
   "metadata": {
    "collapsed": true
   },
   "outputs": [],
   "source": [
    "import pandas as pd\n",
    "import utils\n",
    "import matplotlib.pyplot as plt"
   ]
  },
  {
   "cell_type": "code",
   "execution_count": 2,
   "outputs": [
    {
     "data": {
      "text/plain": "      plate_map_name well_position            broad_sample  mg_per_ml  \\\n0  C-7210-01-CMP-015           A01                     NaN        NaN   \n1  C-7210-01-CMP-015           A02                     NaN        NaN   \n2  C-7210-01-CMP-015           A03                     NaN        NaN   \n3  C-7210-01-CMP-015           A04  BRD-U00088121-001-01-9        NaN   \n4  C-7210-01-CMP-015           A05  BRD-U00088012-001-01-9        NaN   \n\n   mmoles_per_liter solvent Supplier_Catalog pert_type control_type  \n0               NaN    DMSO             DMSO   control       negcon  \n1               NaN    DMSO             DMSO   control       negcon  \n2               NaN    DMSO             DMSO   control       negcon  \n3               4.0    DMSO         Imatinib       trt          NaN  \n4               4.0    DMSO            VS989       trt          NaN  ",
      "text/html": "<div>\n<style scoped>\n    .dataframe tbody tr th:only-of-type {\n        vertical-align: middle;\n    }\n\n    .dataframe tbody tr th {\n        vertical-align: top;\n    }\n\n    .dataframe thead th {\n        text-align: right;\n    }\n</style>\n<table border=\"1\" class=\"dataframe\">\n  <thead>\n    <tr style=\"text-align: right;\">\n      <th></th>\n      <th>plate_map_name</th>\n      <th>well_position</th>\n      <th>broad_sample</th>\n      <th>mg_per_ml</th>\n      <th>mmoles_per_liter</th>\n      <th>solvent</th>\n      <th>Supplier_Catalog</th>\n      <th>pert_type</th>\n      <th>control_type</th>\n    </tr>\n  </thead>\n  <tbody>\n    <tr>\n      <th>0</th>\n      <td>C-7210-01-CMP-015</td>\n      <td>A01</td>\n      <td>NaN</td>\n      <td>NaN</td>\n      <td>NaN</td>\n      <td>DMSO</td>\n      <td>DMSO</td>\n      <td>control</td>\n      <td>negcon</td>\n    </tr>\n    <tr>\n      <th>1</th>\n      <td>C-7210-01-CMP-015</td>\n      <td>A02</td>\n      <td>NaN</td>\n      <td>NaN</td>\n      <td>NaN</td>\n      <td>DMSO</td>\n      <td>DMSO</td>\n      <td>control</td>\n      <td>negcon</td>\n    </tr>\n    <tr>\n      <th>2</th>\n      <td>C-7210-01-CMP-015</td>\n      <td>A03</td>\n      <td>NaN</td>\n      <td>NaN</td>\n      <td>NaN</td>\n      <td>DMSO</td>\n      <td>DMSO</td>\n      <td>control</td>\n      <td>negcon</td>\n    </tr>\n    <tr>\n      <th>3</th>\n      <td>C-7210-01-CMP-015</td>\n      <td>A04</td>\n      <td>BRD-U00088121-001-01-9</td>\n      <td>NaN</td>\n      <td>4.0</td>\n      <td>DMSO</td>\n      <td>Imatinib</td>\n      <td>trt</td>\n      <td>NaN</td>\n    </tr>\n    <tr>\n      <th>4</th>\n      <td>C-7210-01-CMP-015</td>\n      <td>A05</td>\n      <td>BRD-U00088012-001-01-9</td>\n      <td>NaN</td>\n      <td>4.0</td>\n      <td>DMSO</td>\n      <td>VS989</td>\n      <td>trt</td>\n      <td>NaN</td>\n    </tr>\n  </tbody>\n</table>\n</div>"
     },
     "execution_count": 2,
     "metadata": {},
     "output_type": "execute_result"
    }
   ],
   "source": [
    "batch = '2021_04_17_Batch1'\n",
    "platemap = 'C-7210-01-CMP-015'\n",
    "\n",
    "platemap_df = pd.read_csv(f'../metadata/platemaps/{batch}/platemap/{platemap}.txt', sep='\\t')\n",
    "metadata_df = pd.read_csv(f'../metadata/external_metadata/glue_metadata.tsv', sep='\\t')\n",
    "\n",
    "platemap_metadata_df = platemap_df.merge(metadata_df, on='broad_sample', how='left')\n",
    "platemap_metadata_df.head()"
   ],
   "metadata": {
    "collapsed": false,
    "pycharm": {
     "name": "#%%\n"
    }
   }
  },
  {
   "cell_type": "code",
   "execution_count": 3,
   "outputs": [],
   "source": [
    "utils.draw_plates(platemap_metadata_df)\n",
    "plt.savefig('figures/1.platemap.png')"
   ],
   "metadata": {
    "collapsed": false,
    "pycharm": {
     "name": "#%%\n"
    }
   }
  }
 ],
 "metadata": {
  "kernelspec": {
   "display_name": "Python 3",
   "language": "python",
   "name": "python3"
  },
  "language_info": {
   "codemirror_mode": {
    "name": "ipython",
    "version": 2
   },
   "file_extension": ".py",
   "mimetype": "text/x-python",
   "name": "python",
   "nbconvert_exporter": "python",
   "pygments_lexer": "ipython2",
   "version": "2.7.6"
  }
 },
 "nbformat": 4,
 "nbformat_minor": 0
}