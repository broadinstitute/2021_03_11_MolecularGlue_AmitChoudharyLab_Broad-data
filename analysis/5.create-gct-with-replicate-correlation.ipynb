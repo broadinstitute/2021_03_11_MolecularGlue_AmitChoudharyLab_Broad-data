{
 "cells": [
  {
   "cell_type": "code",
   "execution_count": 1,
   "outputs": [],
   "source": [
    "import pandas as pd\n",
    "import utils\n",
    "import numpy as np\n",
    "from pycytominer.cyto_utils import write_gct"
   ],
   "metadata": {
    "collapsed": false,
    "pycharm": {
     "name": "#%%\n"
    }
   }
  },
  {
   "cell_type": "code",
   "execution_count": 2,
   "outputs": [],
   "source": [
    "experiment_df = pd.read_csv('output/experiment-metadata.tsv', sep='\\t')\n",
    "\n",
    "corr_replicating_df = pd.DataFrame()\n",
    "group_by_feature = 'Metadata_broad_sample'"
   ],
   "metadata": {
    "collapsed": false,
    "pycharm": {
     "name": "#%%\n"
    }
   }
  },
  {
   "cell_type": "code",
   "execution_count": 3,
   "outputs": [],
   "source": [
    "all_plates_df = pd.DataFrame()\n",
    "\n",
    "for i, plate in enumerate(experiment_df.Assay_Plate_Barcode.unique()):\n",
    "    batch = experiment_df.loc[i, 'Batch']\n",
    "    df = (\n",
    "        pd.read_csv(f'../profiles/{batch}/{plate}/{plate}_normalized_feature_select_negcon_batch.csv.gz')\n",
    "    )\n",
    "    all_plates_df = utils.concat_profiles(all_plates_df, df)\n",
    "\n",
    "all_plates_df = utils.remove_all_control_empty_wells(all_plates_df)\n",
    "\n",
    "all_plates_conc_1_df = utils.remove_all_control_empty_wells(all_plates_df.query('Metadata_mmoles_per_liter==1'))\n",
    "all_plates_conc_4_df = utils.remove_all_control_empty_wells(all_plates_df.query('Metadata_mmoles_per_liter==4'))\n",
    "\n",
    "all_plates_conc_1_consensus_df = utils.consensus(all_plates_conc_1_df, 'Metadata_broad_sample')\n",
    "all_plates_conc_4_consensus_df = utils.consensus(all_plates_conc_4_df, 'Metadata_broad_sample')"
   ],
   "metadata": {
    "collapsed": false,
    "pycharm": {
     "name": "#%%\n"
    }
   }
  },
  {
   "cell_type": "code",
   "execution_count": 4,
   "outputs": [],
   "source": [
    "replicating_corr_conc_1_df = (\n",
    "    utils.corr_between_replicates_df(all_plates_conc_1_df, group_by_feature)\n",
    "    .rename(columns={'replicate_correlation': 'Metadata_replicate_correlation'})\n",
    ")\n",
    "replicating_corr_conc_4_df = (\n",
    "    utils.corr_between_replicates_df(all_plates_conc_4_df, group_by_feature)\n",
    "    .rename(columns={'replicate_correlation': 'Metadata_replicate_correlation'})\n",
    ")\n",
    "\n",
    "all_plates_conc_1_consensus_df = all_plates_conc_1_consensus_df.merge(replicating_corr_conc_1_df, on='Metadata_broad_sample', how='left')\n",
    "all_plates_conc_4_consensus_df = all_plates_conc_4_consensus_df.merge(replicating_corr_conc_4_df, on='Metadata_broad_sample', how='left')\n",
    "\n",
    "corr_df = pd.concat([all_plates_conc_1_consensus_df, all_plates_conc_4_consensus_df], ignore_index=True, join='inner')"
   ],
   "metadata": {
    "collapsed": false,
    "pycharm": {
     "name": "#%%\n"
    }
   }
  },
  {
   "cell_type": "code",
   "execution_count": 5,
   "outputs": [],
   "source": [
    "# Write gct files using consensus profiles\n",
    "write_gct(corr_df, 'output/consensus_profiles.gct')"
   ],
   "metadata": {
    "collapsed": false,
    "pycharm": {
     "name": "#%%\n"
    }
   }
  }
 ],
 "metadata": {
  "kernelspec": {
   "display_name": "Python 3",
   "language": "python",
   "name": "python3"
  },
  "language_info": {
   "codemirror_mode": {
    "name": "ipython",
    "version": 2
   },
   "file_extension": ".py",
   "mimetype": "text/x-python",
   "name": "python",
   "nbconvert_exporter": "python",
   "pygments_lexer": "ipython2",
   "version": "2.7.6"
  }
 },
 "nbformat": 4,
 "nbformat_minor": 0
}